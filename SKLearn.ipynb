{
  "nbformat": 4,
  "nbformat_minor": 0,
  "metadata": {
    "colab": {
      "name": "SKLearn.ipynb",
      "provenance": []
    },
    "kernelspec": {
      "name": "python3",
      "display_name": "Python 3"
    },
    "accelerator": "GPU"
  },
  "cells": [
    {
      "cell_type": "code",
      "metadata": {
        "id": "d4DfkqjxdnUz",
        "colab_type": "code",
        "colab": {}
      },
      "source": [
        "import pandas as pd\n",
        "import numpy as np\n",
        "from sklearn.model_selection import train_test_split\n",
        "from sklearn.ensemble import RandomForestClassifier, AdaBoostClassifier\n",
        "from sklearn.naive_bayes import BernoulliNB, GaussianNB\n",
        "from sklearn import tree\n",
        "from sklearn import svm\n",
        "from sklearn.neighbors import KNeighborsClassifier as knn\n",
        "from sklearn.gaussian_process import GaussianProcessClassifier\n",
        "from sklearn.linear_model import RidgeClassifier\n",
        "from sklearn.feature_extraction.text import TfidfVectorizer, CountVectorizer\n",
        "from sklearn.model_selection import KFold\n",
        "from sklearn.neural_network import MLPClassifier\n",
        "from time import time\n"
      ],
      "execution_count": null,
      "outputs": []
    },
    {
      "cell_type": "code",
      "metadata": {
        "id": "B7WzVYuFi01j",
        "colab_type": "code",
        "colab": {}
      },
      "source": [
        "d1 = pd.read_csv(\"../Name_Gender.csv\")\n",
        "y = d1['gender']\n",
        "name = d1['first_name']\n",
        "name = name.astype(str)\n"
      ],
      "execution_count": null,
      "outputs": []
    },
    {
      "cell_type": "code",
      "metadata": {
        "id": "UJMvOxcljkX-",
        "colab_type": "code",
        "colab": {}
      },
      "source": [
        "v = CountVectorizer()\n",
        "X = v.fit_transform(name)\n",
        "clf = MLPClassifier()\n",
        "scores = []\n",
        "cv = KFold(n_splits=5, random_state=42, shuffle=True)\n",
        "t=time()\n",
        "for train_index, test_index in cv.split(X):\n",
        "    print(\"Train Index: \", train_index, \"\\n\")\n",
        "    print(\"Test Index: \", test_index)\n",
        "\n",
        "    X_train, X_test, y_train, y_test = X[train_index], X[test_index], y[train_index], y[test_index]\n",
        "    clf.fit(X_train, y_train)\n",
        "    print(clf.score(X_test, y_test))\n",
        "    scores.append(clf.score(X_test, y_test))\n",
        "\n",
        "print(np.mean(scores))\n",
        "print(time()-t)"
      ],
      "execution_count": null,
      "outputs": []
    }
  ]
}